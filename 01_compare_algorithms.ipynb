{
 "cells": [
  {
   "cell_type": "code",
   "execution_count": 1,
   "id": "a4221ce4",
   "metadata": {},
   "outputs": [],
   "source": [
    "# importing libraries  \n",
    "import numpy as nm  \n",
    "import matplotlib.pyplot as mtp  \n",
    "import pandas as pd  "
   ]
  },
  {
   "cell_type": "code",
   "execution_count": 2,
   "id": "5540358e",
   "metadata": {},
   "outputs": [
    {
     "name": "stdout",
     "output_type": "stream",
     "text": [
      "Index(['ordersize', 'itemscount', 'pendingorderscount', 'pendingorderssize',\n",
      "       'pendingorderitems', 'bumptime'],\n",
      "      dtype='object')\n"
     ]
    }
   ],
   "source": [
    "# importing datasets  \n",
    "data_set= pd.read_csv('orders.csv')  \n",
    "\n",
    "print(data_set.columns)"
   ]
  },
  {
   "cell_type": "code",
   "execution_count": 3,
   "id": "05f7d534",
   "metadata": {},
   "outputs": [],
   "source": [
    "# Extracting Independent and dependent Variable  \n",
    "x= data_set.iloc[:, :-1].values  \n",
    "y= data_set.iloc[:, 5].values "
   ]
  },
  {
   "cell_type": "code",
   "execution_count": 4,
   "id": "0a77e7b4",
   "metadata": {},
   "outputs": [],
   "source": [
    "# Splitting the dataset into training and test set.  \n",
    "from sklearn.model_selection import train_test_split  \n",
    "x_train, x_test, y_train, y_test= train_test_split(x, y, test_size= 0.2, random_state=0)"
   ]
  },
  {
   "cell_type": "code",
   "execution_count": 5,
   "id": "2aa43e18",
   "metadata": {},
   "outputs": [
    {
     "name": "stdout",
     "output_type": "stream",
     "text": [
      "Train Score: 18.51%\n",
      "Test Score: 11.77%\n"
     ]
    }
   ],
   "source": [
    "# Multiple Linear Regression model:  \n",
    "from sklearn.linear_model import LinearRegression  \n",
    "mlr = LinearRegression()  \n",
    "mlr.fit(x_train, y_train) \n",
    "\n",
    "# Predicting the Test set result;  \n",
    "y_pred= mlr.predict(x_test)\n",
    "\n",
    "# Evaluate predictions\n",
    "print(f'Train Score: {mlr.score(x_train, y_train)*100:.2f}%')\n",
    "print(f'Test Score: {mlr.score(x_test, y_test)*100:.2f}%')"
   ]
  },
  {
   "cell_type": "code",
   "execution_count": 6,
   "id": "240f0922",
   "metadata": {},
   "outputs": [
    {
     "name": "stdout",
     "output_type": "stream",
     "text": [
      "Train Score: 12.65%\n",
      "Test Score: 12.01%\n"
     ]
    }
   ],
   "source": [
    "# BayesianRidge model:  \n",
    "from sklearn import linear_model \n",
    "bay = linear_model.BayesianRidge()\n",
    "bay.fit(x_train, y_train) \n",
    "\n",
    "# Predicting the Test set result;  \n",
    "y_pred= bay.predict(x_test)\n",
    "\n",
    "# Evaluate predictions\n",
    "print(f'Train Score: {bay.score(x_train, y_train)*100:.2f}%')\n",
    "print(f'Test Score: {bay.score(x_test, y_test)*100:.2f}%')"
   ]
  },
  {
   "cell_type": "code",
   "execution_count": 7,
   "id": "b3721082",
   "metadata": {},
   "outputs": [
    {
     "name": "stdout",
     "output_type": "stream",
     "text": [
      "Train Score: 18.51%\n",
      "Test Score: 11.77%\n"
     ]
    }
   ],
   "source": [
    "# Lasso model:  \n",
    "from sklearn import linear_model \n",
    "laso = linear_model.Lasso(alpha=0.1)\n",
    "laso.fit(x_train, y_train) \n",
    "\n",
    "# Predicting the Test set result;  \n",
    "y_pred= laso.predict(x_test)\n",
    "\n",
    "# Evaluate predictions\n",
    "print(f'Train Score: {laso.score(x_train, y_train)*100:.2f}%')\n",
    "print(f'Test Score: {laso.score(x_test, y_test)*100:.2f}%')"
   ]
  },
  {
   "cell_type": "code",
   "execution_count": 8,
   "id": "8f177bea",
   "metadata": {},
   "outputs": [
    {
     "name": "stdout",
     "output_type": "stream",
     "text": [
      "Train Score: 90.23%\n",
      "Test Score: 63.42%\n"
     ]
    }
   ],
   "source": [
    "# RandomForestRegressor model\n",
    "from sklearn.ensemble import RandomForestRegressor \n",
    "rf = RandomForestRegressor(n_estimators = 1000, random_state = 42)\n",
    "rf.fit(x_train, y_train)\n",
    "\n",
    "# Predicting the Test set result;  \n",
    "y_pred= rf.predict(x_test)\n",
    "\n",
    "# Evaluate predictions\n",
    "print(f'Train Score: {rf.score(x_train, y_train)*100:.2f}%')\n",
    "print(f'Test Score: {rf.score(x_test, y_test)*100:.2f}%')\n",
    "\n",
    "# finally found an algorithm predicting good results"
   ]
  }
 ],
 "metadata": {
  "kernelspec": {
   "display_name": "Python 3 (ipykernel)",
   "language": "python",
   "name": "python3"
  },
  "language_info": {
   "codemirror_mode": {
    "name": "ipython",
    "version": 3
   },
   "file_extension": ".py",
   "mimetype": "text/x-python",
   "name": "python",
   "nbconvert_exporter": "python",
   "pygments_lexer": "ipython3",
   "version": "3.11.4"
  }
 },
 "nbformat": 4,
 "nbformat_minor": 5
}
