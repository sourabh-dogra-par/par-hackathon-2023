{
 "cells": [
  {
   "cell_type": "code",
   "execution_count": 1,
   "id": "703068b8",
   "metadata": {},
   "outputs": [
    {
     "name": "stdout",
     "output_type": "stream",
     "text": [
      "Index(['location', 'year', 'month', 'day', 'hour', 'minute', 'weeend',\n",
      "       'orderSize', 'orderItems', 'pendingOrders', 'pendingOrdersSize',\n",
      "       'pendingOrderItems', 'bumpTime'],\n",
      "      dtype='object')\n",
      "\n",
      "\n",
      "Train Score: 99.98%\n",
      "Test Score: 99.98%\n"
     ]
    }
   ],
   "source": [
    "# with orders and just gross sales and locationid and time of order\n",
    "\n",
    "# importing libraries  \n",
    "import numpy as nm  \n",
    "import matplotlib.pyplot as mtp  \n",
    "import pandas as pd \n",
    "from sklearn.utils import shuffle\n",
    "\n",
    "#importing datasets  \n",
    "data_set= pd.read_csv('orders_random_data.csv') \n",
    "\n",
    "print(data_set.columns)\n",
    "print('\\n')\n",
    "\n",
    "# shuffle the data before training the data\n",
    "# data_set = shuffle(data_set)\n",
    "\n",
    "#Extracting Independent and dependent Variable  \n",
    "x= data_set.iloc[:, :-1].values  \n",
    "y= data_set.iloc[:, 12].values\n",
    "\n",
    "# Splitting the dataset into training and test set.  \n",
    "from sklearn.model_selection import train_test_split  \n",
    "x_train, x_test, y_train, y_test= train_test_split(x, y, test_size= 0.2, random_state=0)\n",
    "\n",
    "#Fitting the RandomForestRegressor model to the training set:  \n",
    "from sklearn.ensemble import RandomForestRegressor \n",
    "rf = RandomForestRegressor(n_estimators = 1000, random_state = 42)\n",
    "rf.fit(x_train, y_train)\n",
    "\n",
    "#Predicting the Test set result;  \n",
    "y_pred = rf.predict(x_test)\n",
    "\n",
    "# Evaluate predictions\n",
    "print(f'Train Score: {rf.score(x_train, y_train)*100:.2f}%')\n",
    "print(f'Test Score: {rf.score(x_test, y_test)*100:.2f}%')"
   ]
  },
  {
   "cell_type": "code",
   "execution_count": 2,
   "id": "72adf4a2",
   "metadata": {},
   "outputs": [
    {
     "name": "stdout",
     "output_type": "stream",
     "text": [
      "bump time --> 15.252 mins\n",
      "bump time --> 11.135 mins\n"
     ]
    }
   ],
   "source": [
    "# test with new values\n",
    "newOrders = [[2, 2023, 5, 18, 16, 45, 0, 50, 5, 5, 123, 13], \n",
    "             [1, 2023, 3, 12, 14, 23, 1, 33, 8, 2, 83, 5]]\n",
    "preds = rf.predict(newOrders)\n",
    "\n",
    "for pred in preds:\n",
    "    print(f\"bump time --> {pred} mins\")"
   ]
  },
  {
   "cell_type": "code",
   "execution_count": 3,
   "id": "f9ce6c31",
   "metadata": {},
   "outputs": [
    {
     "name": "stdout",
     "output_type": "stream",
     "text": [
      "Feature: location, Score:  0.051%\n",
      "Feature: year, Score:  0.000%\n",
      "Feature: month, Score:  0.000%\n",
      "Feature: day, Score:  0.000%\n",
      "Feature: hour, Score:  0.000%\n",
      "Feature: minute, Score:  0.000%\n",
      "Feature: weeend, Score:  0.000%\n",
      "Feature: orderSize, Score:  18.818%\n",
      "Feature: orderItems, Score:  0.056%\n",
      "Feature: pendingOrders, Score:  18.441%\n",
      "Feature: pendingOrdersSize, Score:  44.714%\n",
      "Feature: pendingOrderItems, Score:  17.918%\n"
     ]
    }
   ],
   "source": [
    "importance = rf.feature_importances_\n",
    "for i,v in enumerate(importance):\n",
    "    print(f'Feature: {data_set.columns[i]}, Score: {v*100: .3f}%')"
   ]
  }
 ],
 "metadata": {
  "kernelspec": {
   "display_name": "Python 3 (ipykernel)",
   "language": "python",
   "name": "python3"
  },
  "language_info": {
   "codemirror_mode": {
    "name": "ipython",
    "version": 3
   },
   "file_extension": ".py",
   "mimetype": "text/x-python",
   "name": "python",
   "nbconvert_exporter": "python",
   "pygments_lexer": "ipython3",
   "version": "3.11.4"
  }
 },
 "nbformat": 4,
 "nbformat_minor": 5
}
