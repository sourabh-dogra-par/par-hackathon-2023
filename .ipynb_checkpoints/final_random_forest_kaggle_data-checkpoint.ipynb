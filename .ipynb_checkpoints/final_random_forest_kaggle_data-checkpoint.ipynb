{
 "cells": [
  {
   "cell_type": "code",
   "execution_count": 1,
   "id": "63fdd52d",
   "metadata": {},
   "outputs": [
    {
     "name": "stdout",
     "output_type": "stream",
     "text": [
      "Index(['Restaurant_ID', 'order_hour', 'order_min', 'OrderSize', 'ItemsCount',\n",
      "       'PendingOrdersCount', 'PendingOrdersSize', 'PendingOrderItems',\n",
      "       'Delivery_Time_Taken_mins'],\n",
      "      dtype='object')\n",
      "\n",
      "\n",
      "Train Score: 84.10%\n",
      "Test Score: -24.67%\n"
     ]
    }
   ],
   "source": [
    "# with orders from kaggle\n",
    "\n",
    "# importing libraries  \n",
    "import numpy as nm  \n",
    "import matplotlib.pyplot as mtp  \n",
    "import pandas as pd \n",
    "from sklearn.utils import shuffle\n",
    "\n",
    "#importing datasets  \n",
    "data_set= pd.read_csv('orders_kaggle.csv') \n",
    "\n",
    "print(data_set.columns)\n",
    "print('\\n')\n",
    "\n",
    "#Extracting Independent and dependent Variable  \n",
    "x= data_set.iloc[:, :-1].values  \n",
    "y= data_set.iloc[:, 8].values\n",
    "\n",
    "# Splitting the dataset into training and test set.  \n",
    "from sklearn.model_selection import train_test_split  \n",
    "x_train, x_test, y_train, y_test= train_test_split(x, y, test_size= 0.2, random_state=0)\n",
    "\n",
    "# Fitting the RandomForestRegressor model to the training set:  \n",
    "from sklearn.ensemble import RandomForestRegressor \n",
    "rf = RandomForestRegressor(n_estimators = 1000, random_state = 42)\n",
    "rf.fit(x_train, y_train)\n",
    "\n",
    "# Predicting the Test set result;  \n",
    "y_pred = rf.predict(x_test)\n",
    "\n",
    "# Evaluate predictions\n",
    "print(f'Train Score: {rf.score(x_train, y_train)*100:.2f}%')\n",
    "print(f'Test Score: {rf.score(x_test, y_test)*100:.2f}%')"
   ]
  },
  {
   "cell_type": "code",
   "execution_count": 2,
   "id": "c4e56e4a",
   "metadata": {},
   "outputs": [
    {
     "name": "stdout",
     "output_type": "stream",
     "text": [
      "bump time --> 31.024 sec.\n",
      "bump time --> 34.802 sec.\n"
     ]
    }
   ],
   "source": [
    "# test with new values\n",
    "newOrders = [[17, 12, 0, 573, 4, 26, 15057, 127],\n",
    "             [6, 14, 21, 224, 4, 60, 35749, 276]]\n",
    "\n",
    "preds = rf.predict(newOrders)\n",
    "\n",
    "for pred in preds:\n",
    "    print(f\"bump time --> {pred} sec.\")"
   ]
  },
  {
   "cell_type": "code",
   "execution_count": 3,
   "id": "78698508",
   "metadata": {},
   "outputs": [],
   "source": [
    "# importance = rf.feature_importances_\n",
    "# for i,v in enumerate(importance):\n",
    "#    print(f'Feature: {data_set.columns[i]}, Score: {v*100: .3f}%')"
   ]
  },
  {
   "cell_type": "code",
   "execution_count": null,
   "id": "14da2bc4",
   "metadata": {},
   "outputs": [],
   "source": []
  }
 ],
 "metadata": {
  "kernelspec": {
   "display_name": "Python 3 (ipykernel)",
   "language": "python",
   "name": "python3"
  },
  "language_info": {
   "codemirror_mode": {
    "name": "ipython",
    "version": 3
   },
   "file_extension": ".py",
   "mimetype": "text/x-python",
   "name": "python",
   "nbconvert_exporter": "python",
   "pygments_lexer": "ipython3",
   "version": "3.11.4"
  }
 },
 "nbformat": 4,
 "nbformat_minor": 5
}
