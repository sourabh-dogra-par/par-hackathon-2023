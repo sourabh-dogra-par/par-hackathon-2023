{
 "cells": [
  {
   "cell_type": "code",
   "execution_count": 1,
   "id": "703068b8",
   "metadata": {},
   "outputs": [
    {
     "name": "stdout",
     "output_type": "stream",
     "text": [
      "Index(['LocationId', 'order_year', 'order_month', 'order_date', 'order_hour',\n",
      "       'order_min', 'order_sec', 'ordersize', 'itemscount',\n",
      "       'pendingorderscount', 'pendingorderssize', 'pendingorderitems',\n",
      "       'bumptime'],\n",
      "      dtype='object')\n",
      "\n",
      "\n",
      "Train Score: 98.24%\n",
      "Test Score: 94.90%\n"
     ]
    }
   ],
   "source": [
    "# with orders also containing store and date & time of order\n",
    "\n",
    "# importing libraries  \n",
    "import numpy as nm  \n",
    "import matplotlib.pyplot as mtp  \n",
    "import pandas as pd \n",
    "from sklearn.utils import shuffle\n",
    "\n",
    "#importing datasets  \n",
    "data_set= pd.read_csv('orders_loc_time.csv') \n",
    "\n",
    "print(data_set.columns)\n",
    "print('\\n')\n",
    "\n",
    "#fetch distinct locationsids\n",
    "locs = data_set['LocationId'].unique()\n",
    "\n",
    "#create a running number list of same size as locationids count\n",
    "run_num = list(range(1,len(locs)+1))\n",
    "\n",
    "#replace locationids with running numbers\n",
    "data_set.replace(to_replace=locs, value=run_num, inplace=True)\n",
    "\n",
    "# shuffle the data before training the data\n",
    "data_set = shuffle(data_set)\n",
    "\n",
    "#Extracting Independent and dependent Variable  \n",
    "x= data_set.iloc[:, :-1].values  \n",
    "y= data_set.iloc[:, 12].values\n",
    "\n",
    "# Splitting the dataset into training and test set.  \n",
    "from sklearn.model_selection import train_test_split  \n",
    "x_train, x_test, y_train, y_test= train_test_split(x, y, test_size= 0.2, random_state=0)\n",
    "\n",
    "#Fitting the RandomForestRegressor model to the training set:  \n",
    "from sklearn.ensemble import RandomForestRegressor \n",
    "rf = RandomForestRegressor(n_estimators = 1000, random_state = 42)\n",
    "rf.fit(x_train, y_train)\n",
    "\n",
    "#Predicting the Test set result;  \n",
    "y_pred = rf.predict(x_test)\n",
    "\n",
    "# Evaluate predictions\n",
    "print(f'Train Score: {rf.score(x_train, y_train)*100:.2f}%')\n",
    "print(f'Test Score: {rf.score(x_test, y_test)*100:.2f}%')"
   ]
  },
  {
   "cell_type": "code",
   "execution_count": 2,
   "id": "0e0d9911",
   "metadata": {},
   "outputs": [
    {
     "name": "stdout",
     "output_type": "stream",
     "text": [
      "bump time --> 19:16:28\n",
      "bump time --> 7:46:42\n"
     ]
    }
   ],
   "source": [
    "# test with new values\n",
    "newOrders = [['0714a783-6cb8-4d9b-8679-d7924cde08f6', 2023, 5, 18, 16, 45, 50, 5, 1, 1, 3, 1], \n",
    "             ['0714a783-6cb8-4d9b-8679-d7924cde08f6', 2023, 3, 12, 4, 23, 33, 5, 1, 1, 3, 1]]\n",
    "df = pd.DataFrame(newOrders)\n",
    "df.replace(to_replace=locs, value=run_num, inplace=True)\n",
    "newOrders = df.values.tolist()\n",
    "\n",
    "preds = rf.predict(newOrders)\n",
    "\n",
    "for pred in preds:\n",
    "    if(pred > 3600):\n",
    "        hour = int(pred/3600)\n",
    "        rem = pred - hour*3600\n",
    "        min = int(rem/60)\n",
    "        rem = rem - min*60\n",
    "        sec = int(rem)\n",
    "        print(\"bump time --> %r:%r:%r\" %(hour, min, sec))\n",
    "    elif(pred > 60):\n",
    "        min = int(pred/60)\n",
    "        rem = rem - min*60\n",
    "        sec = int(rem)\n",
    "        print(\"bump time --> %r:%r:%r\" %(hour, min, sec))\n",
    "    else:\n",
    "        sec = int(pred)\n",
    "        print(\"bump time --> %r:%r:%r\" %(hour, min, sec))"
   ]
  },
  {
   "cell_type": "code",
   "execution_count": 2,
   "id": "1cc3fc43",
   "metadata": {},
   "outputs": [
    {
     "name": "stdout",
     "output_type": "stream",
     "text": [
      "Feature: LocationId, Score:  0.332%\n",
      "Feature: order_year, Score:  0.002%\n",
      "Feature: order_month, Score:  34.339%\n",
      "Feature: order_date, Score:  51.455%\n",
      "Feature: order_hour, Score:  3.705%\n",
      "Feature: order_min, Score:  2.058%\n",
      "Feature: order_sec, Score:  3.156%\n",
      "Feature: ordersize, Score:  0.032%\n",
      "Feature: itemscount, Score:  0.000%\n",
      "Feature: pendingorderscount, Score:  1.395%\n",
      "Feature: pendingorderssize, Score:  2.049%\n",
      "Feature: pendingorderitems, Score:  1.478%\n"
     ]
    }
   ],
   "source": [
    "importance = rf.feature_importances_\n",
    "for i,v in enumerate(importance):\n",
    "    print(f'Feature: {data_set.columns[i]}, Score: {v*100: .3f}%')"
   ]
  },
  {
   "cell_type": "code",
   "execution_count": null,
   "id": "75e55450",
   "metadata": {},
   "outputs": [],
   "source": []
  }
 ],
 "metadata": {
  "kernelspec": {
   "display_name": "Python 3 (ipykernel)",
   "language": "python",
   "name": "python3"
  },
  "language_info": {
   "codemirror_mode": {
    "name": "ipython",
    "version": 3
   },
   "file_extension": ".py",
   "mimetype": "text/x-python",
   "name": "python",
   "nbconvert_exporter": "python",
   "pygments_lexer": "ipython3",
   "version": "3.11.4"
  }
 },
 "nbformat": 4,
 "nbformat_minor": 5
}
